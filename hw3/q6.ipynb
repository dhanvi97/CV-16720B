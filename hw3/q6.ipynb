{
 "cells": [
  {
   "cell_type": "code",
   "execution_count": null,
   "metadata": {},
   "outputs": [],
   "source": []
  },
  {
   "cell_type": "markdown",
   "metadata": {},
   "source": [
    "<img align=\"center\" src=\"figures/course.png\" width=\"800\">\n",
    "\n",
    "#                                    16720 (B) Neural Networks for Recognition - Assignment 3\n",
    "\n",
    "     Instructor: Kris Kitani                       TAs: Arka, Jinkun, Rawal, Rohan, Sheng-Yu"
   ]
  },
  {
   "cell_type": "markdown",
   "metadata": {},
   "source": [
    "## Q6 Data Augmentation [Extra Credit](20 points)\n",
    "\n",
    "**Note: We would recommend finishing Question 4 (pytorch) before attempting this question**\n",
    "\n",
    "**Please include all the write up answers below to the PDF submission. For the questions that need code, you need to include the screenshot of code to the PDF submission to get points.**\n",
    "\n",
    "Data augmentation is a technique often used to boost the performance of neural networks on visual learning tasks such as classification. The method relies on applying transforms to input examples that change the input, but not enough to change the class label. In this problem, we will use the NIST36 dataset to evaluate the improvement we can get from augmentation quantitatively.\n",
    "\n",
    "The augmentations you will implement will look something like \n",
    "\n",
    "![](figures/sample_aug1.png)\n",
    "![](figures/sample_aug2.png)"
   ]
  },
  {
   "cell_type": "markdown",
   "metadata": {},
   "source": [
    "### Q6.1 Implementing Data Transformations (10 pts, code + write-up)"
   ]
  },
  {
   "cell_type": "code",
   "execution_count": null,
   "metadata": {},
   "outputs": [],
   "source": [
    "import numpy as np\n",
    "import cv2\n",
    "import scipy.io\n",
    "from scipy import ndimage\n",
    "from ipynb.fs.defs.q1 import *"
   ]
  },
  {
   "cell_type": "markdown",
   "metadata": {},
   "source": [
    "#### Q6.1.1 Implement Data Translation (3 pts, code)\n",
    "\n",
    "First, you will implement a method to apply a translation to an image given an amount to translate in each direction. You are free to implement this however you like. The translated image should be the same size as the original, and the gaps induced by the translation should be filled with the appropriate values.  \n",
    "\n",
    "<font color=\"red\">**For this question, please also submit screenshot of your code snippets to the write-up**</font>"
   ]
  },
  {
   "cell_type": "code",
   "execution_count": null,
   "metadata": {},
   "outputs": [],
   "source": [
    "def apply_random_translation(im, dx, dy):\n",
    "    '''\n",
    "    Applies a random translation to the image, described by dx, and dy.\n",
    "    \n",
    "    [input]\n",
    "    * im -- image to be translation\n",
    "    * dx -- the number of pixels the image should be translated in the x direction\n",
    "    * dy -- the number of pixesl the image should be translated in the y direction\n",
    "    [output]\n",
    "    * im -- the translated image\n",
    "    '''\n",
    "    # YOUR CODE HERE\n",
    "    raise NotImplementedError\n",
    "\n",
    "    return im_translated"
   ]
  },
  {
   "cell_type": "markdown",
   "metadata": {},
   "source": [
    "#### Q6.1.2 Implement Data Rotation (2 pts, code)\n",
    "\n",
    "Next, you will implement a method to apply rotation to an image. You are allowed to use library methods for this, we suggest using scipy.ndimage.rotate. However, you will need to ensure that the output of your method is a reasonable looking image - to do this, you will need to fill in any gaps induced by the rotation.\n",
    "\n",
    "<font color=\"red\">**For this question, please also submit screenshot of your code snippets to the write-up**</font>"
   ]
  },
  {
   "cell_type": "code",
   "execution_count": null,
   "metadata": {},
   "outputs": [],
   "source": [
    "def apply_random_rotation(im, angle):\n",
    "    '''\n",
    "    Applies a random rotation to the image of angle degrees.\n",
    "    \n",
    "    [input]\n",
    "    * im -- image to be rotation\n",
    "    * angle -- the number of degrees for the image to be rotated.\n",
    "    \n",
    "    [output]\n",
    "    * im -- rotated image.\n",
    "    '''\n",
    "    # YOUR CODE HERE\n",
    "    raise NotImplementedError\n",
    "\n",
    "    return rotated_im"
   ]
  },
  {
   "cell_type": "markdown",
   "metadata": {},
   "source": [
    "#### Q6.1.3 Visualize transformations (5 pts, write-up)\n",
    "\n",
    "Visualize 5 different data examples, with randomly selected values for dx, dy and angle. Be sure to label each image with the associated augmentation parameters, and visualize all 5 images on the same plot.\n",
    "\n",
    "<font color=\"red\">**Please include your answer to HW3:PDF**</font>\n",
    "\n",
    "<font color=\"red\">**For this question, please also submit screenshot of your code snippets to the write-up**</font>"
   ]
  },
  {
   "cell_type": "code",
   "execution_count": null,
   "metadata": {},
   "outputs": [],
   "source": [
    "train_data = scipy.io.loadmat('data/nist36_train.mat')\n",
    "valid_data = scipy.io.loadmat('data/nist36_valid.mat')\n",
    "\n",
    "train_x, train_y = train_data['train_data'], train_data['train_labels']\n",
    "valid_x, valid_y = valid_data['valid_data'], valid_data['valid_labels']\n",
    "\n",
    "# YOUR VISUALIZATION CODE HERE"
   ]
  },
  {
   "cell_type": "markdown",
   "metadata": {},
   "source": [
    "### Q6.2 Implementing Data Transformations (10 pts, code + write-up)\n",
    "\n",
    "Next, you will use your transformations to modify examples in the training loop. Integrate your code for the data augmentations into the training loop such that each example received by the model has a random translation and rotation applied to it. Be sure to set the ranges for the parameters such that the augmentations keep the examples reasonable-looking. Train a model with your augmentations, and plot the accuracy vs. epochs compared to a model trained with no augmentations. (You can do this by setting the range of augmentation parameters to 0). What do you notice about the performance of the model with augmentations vs. without? Explain any notable differences you find. \n",
    "\n",
    "You may use any size neural network you choose, but make sure you use the same size network for evaluating the baseline performance (no augmentations) vs the performance with augmentation.\n",
    "\n",
    "<font color=\"red\">**Please include your answer to HW3:PDF**</font>\n",
    "\n",
    "<font color=\"red\">**For this question, please also submit screenshot of your code snippets to the write-up**</font>"
   ]
  },
  {
   "cell_type": "code",
   "execution_count": null,
   "metadata": {},
   "outputs": [],
   "source": [
    "\"\"\"\n",
    "This should look like your previous training loops.\n",
    "\"\"\"\n",
    "\n",
    "max_iters = 50\n",
    "# pick a batch size, learning rate\n",
    "batch_size = None\n",
    "learning_rate = None\n",
    "# YOUR CODE HERE\n",
    "raise NotImplementedError()\n",
    "hidden_size = 64\n",
    "\n",
    "batches = get_random_batches(train_x,train_y,batch_size)\n",
    "batch_num = len(batches)\n",
    "\n",
    "params = {}\n",
    "\n",
    "# initialize layers (named \"layer1\" and \"output\") here\n",
    "# YOUR CODE HERE\n",
    "raise NotImplementedError()\n",
    "\n",
    "\n",
    "# with default settings, you should get loss < 150 and accuracy > 80%\n",
    "for itr in range(max_iters):\n",
    "    total_loss = 0\n",
    "    total_acc = 0\n",
    "    for xb,yb in batches:\n",
    "        \n",
    "        # training loop can be exactly the same as q2!\n",
    "        # YOUR CODE HERE\n",
    "        raise NotImplementedError()\n",
    "    if itr % 2 == 0:\n",
    "        print(\"itr: {:02d} \\t loss: {:.2f} \\t acc : {:.2f}\".format(itr,total_loss,total_acc))\n",
    "\n",
    "# run on validation set and report accuracy! should be above 75%\n",
    "valid_acc = None\n",
    "# YOUR CODE HERE\n",
    "raise NotImplementedError()\n",
    "print('Validation accuracy: ',valid_acc)"
   ]
  }
 ],
 "metadata": {
  "interpreter": {
   "hash": "bff560d6989f3fe3583fe1f52255f41a0c0b25048fdb14e6ca8e00ba5b5f12b7"
  },
  "kernelspec": {
   "display_name": "Python 3 (ipykernel)",
   "language": "python",
   "name": "python3"
  },
  "language_info": {
   "codemirror_mode": {
    "name": "ipython",
    "version": 3
   },
   "file_extension": ".py",
   "mimetype": "text/x-python",
   "name": "python",
   "nbconvert_exporter": "python",
   "pygments_lexer": "ipython3",
   "version": "3.8.13"
  }
 },
 "nbformat": 4,
 "nbformat_minor": 2
}
