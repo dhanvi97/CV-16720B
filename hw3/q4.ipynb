{
 "cells": [
  {
   "cell_type": "code",
   "execution_count": null,
   "id": "13458f5f",
   "metadata": {},
   "outputs": [],
   "source": []
  },
  {
   "cell_type": "markdown",
   "id": "ef482389",
   "metadata": {
    "deletable": false,
    "editable": false,
    "nbgrader": {
     "cell_type": "markdown",
     "checksum": "c373c338d8f3ed1d6f148e42f6401bf3",
     "grade": false,
     "grade_id": "cell-13f53db58aca8872",
     "locked": true,
     "schema_version": 3,
     "solution": false,
     "task": false
    }
   },
   "source": [
    "<img align=\"center\" src=\"figures/course.png\" width=\"800\">\n",
    "\n",
    "#                                    16720 (B) Neural Networks for Recognition - Assignment 3\n",
    "\n",
    "     Instructor: Kris Kitani                       TAs: Arka, Jinkun, Rawal, Rohan, Sheng-Yu"
   ]
  },
  {
   "cell_type": "markdown",
   "id": "2bc80285",
   "metadata": {
    "deletable": false,
    "editable": false,
    "nbgrader": {
     "cell_type": "markdown",
     "checksum": "3e436a26038a5fc987c7bd6d5b256a2d",
     "grade": false,
     "grade_id": "cell-6401c946baf292ff",
     "locked": true,
     "schema_version": 3,
     "solution": false,
     "task": false
    }
   },
   "source": [
    "## Q4 PyTorch (40 points)\n",
    "\n",
    "**Please include all the write up answers below to HW3:PDF. For the questions that need code, you need to include the screenshot of code to PDF submission to get points.**\n",
    "\n",
    "While you were able to derive manual back-propagation rules for sigmoid and fully-connected layers, wouldn't it be nice if someone did that for lots of useful primatives and made it fast and easy to use for general computation?  Meet [automatic differentiation](https://en.wikipedia.org/wiki/Automatic_differentiation). Since we have high-dimensional inputs (images) and low-dimensional outputs (a scalar loss), it turns out **forward mode AD** is very efficient. Popular autodiff packages include [pytorch](https://pytorch.org/) (Facebook), [tensorflow](https://www.tensorflow.org/) (Google), [autograd](https://github.com/HIPS/autograd) (Boston-area academics). Autograd provides its own replacement for numpy operators and is a drop-in replacement for numpy, except you can ask for gradients now. The other two are able to act as shim layers for [cuDNN](https://developer.nvidia.com/cudnn), an implementation of auto-diff made by Nvidia for use on their GPUs. Since GPUs are able to perform large amounts of math much faster than CPUs, this makes the former two packages very popular for researchers who train large networks. Tensorflow asks you to build a computational graph using its API, and then is able to pass data through that graph. PyTorch builds a dynamic graph and allows you to mix autograd functions with normal python code much more smoothly, so it is currently more popular among CMU students. \n",
    "\n",
    "We will use [pytorch](https://pytorch.org/) as a framework. Many computer vision projects use neural networks as a basic building block, so familiarity with one of these frameworks is a good skill to develop. Here, we basically replicate and slightly expand our handwritten character recognition networks, but do it in PyTorch instead of doing it ourselves. Feel free to use any tutorial you like, but we like [the offical one](https://pytorch.org/tutorials/beginner/deep_learning_60min_blitz.html) or [this tutorial](http://cs231n.stanford.edu/notebooks/pytorch_tutorial.ipynb) (in a jupyter notebook) or [these slides](http://cs231n.stanford.edu/slides/2018/cs231n_2018_lecture08.pdf (starting from number 35).\n",
    "\n",
    "**For this section, you're free to implement these however you like. All of the tasks required here are fairly small and don't require a GPU if you use small networks, including 4.2.**"
   ]
  },
  {
   "cell_type": "markdown",
   "id": "b98c1f2a",
   "metadata": {
    "deletable": false,
    "editable": false,
    "nbgrader": {
     "cell_type": "markdown",
     "checksum": "b2c3c028cd304575a6d8239bcf2f664f",
     "grade": false,
     "grade_id": "cell-5c75db14ea00d1ae",
     "locked": true,
     "schema_version": 3,
     "solution": false,
     "task": false
    }
   },
   "source": [
    "### Q4.1 Train a neural network in PyTorch"
   ]
  },
  {
   "cell_type": "markdown",
   "id": "9223d5f9",
   "metadata": {
    "deletable": false,
    "editable": false,
    "nbgrader": {
     "cell_type": "markdown",
     "checksum": "dca106c5434b6106cc9d60ea4b8267b6",
     "grade": false,
     "grade_id": "cell-6a8302ccaf83c369",
     "locked": true,
     "schema_version": 3,
     "solution": false,
     "task": false
    }
   },
   "source": [
    "#### Q4.1.1 (10 Points Code+WriteUp)\n",
    " \n",
    "Re-write and re-train your fully-connected network on NIST36 in PyTorch. Plot training accuracy and loss over time.\n",
    "\n",
    "<font color=\"red\">**Please include your answer to HW3:PDF**</font>\n",
    "\n",
    "<font color=\"red\">**For this question, please also submit screenshot of your code snippets to the write-up**</font>"
   ]
  },
  {
   "cell_type": "code",
   "execution_count": null,
   "id": "eef1c250",
   "metadata": {
    "deletable": false,
    "nbgrader": {
     "cell_type": "code",
     "checksum": "49f03f996c9d1ac506ff3223525222ef",
     "grade": true,
     "grade_id": "cell-88a606e8a400dc8b",
     "locked": false,
     "points": 10,
     "schema_version": 3,
     "solution": true,
     "task": false
    }
   },
   "outputs": [],
   "source": [
    "# YOUR CODE HERE\n",
    "raise NotImplementedError()"
   ]
  },
  {
   "cell_type": "markdown",
   "id": "f08d0f13",
   "metadata": {
    "deletable": false,
    "editable": false,
    "nbgrader": {
     "cell_type": "markdown",
     "checksum": "ff5a75b2296597c74716b759f4a5c788",
     "grade": false,
     "grade_id": "cell-532aaec5d587259a",
     "locked": true,
     "schema_version": 3,
     "solution": false,
     "task": false
    }
   },
   "source": [
    "#### Q4.1.2 (3 Points Code+WriteUp)\n",
    " \n",
    "Train a convolutional neural network with PyTorch on MNIST. Plot training accuracy and loss over time.\n",
    "\n",
    "<font color=\"red\">**Please include your answer to HW3:PDF**</font>\n",
    "\n",
    "<font color=\"red\">**For this question, please also submit screenshot of your code snippets to the write-up**</font>"
   ]
  },
  {
   "cell_type": "code",
   "execution_count": null,
   "id": "02227711",
   "metadata": {
    "deletable": false,
    "nbgrader": {
     "cell_type": "code",
     "checksum": "87ddc39f0302f43e3adceeb2a4f9d7c2",
     "grade": true,
     "grade_id": "cell-db5a77f9ccaf8fd3",
     "locked": false,
     "points": 3,
     "schema_version": 3,
     "solution": true,
     "task": false
    }
   },
   "outputs": [],
   "source": [
    "# YOUR CODE HERE\n",
    "raise NotImplementedError()"
   ]
  },
  {
   "cell_type": "markdown",
   "id": "6d861662",
   "metadata": {
    "deletable": false,
    "editable": false,
    "nbgrader": {
     "cell_type": "markdown",
     "checksum": "f4a0f0018af8460a26e4cba54a79a3df",
     "grade": false,
     "grade_id": "cell-224cbb8be1a16286",
     "locked": true,
     "schema_version": 3,
     "solution": false,
     "task": false
    }
   },
   "source": [
    "#### Q4.1.3 (2 Points Code+WriteUp)\n",
    " \n",
    "Train a convolutional neural network with PyTorch on the included NIST36 dataset. Plot training accuracy and loss over time.\n",
    "\n",
    "<font color=\"red\">**Please include your answer to HW3:PDF**</font>\n",
    "\n",
    "<font color=\"red\">**For this question, please also submit screenshot of your code snippets to the write-up**</font>"
   ]
  },
  {
   "cell_type": "code",
   "execution_count": null,
   "id": "20761659",
   "metadata": {
    "deletable": false,
    "nbgrader": {
     "cell_type": "code",
     "checksum": "183705ab99712d3922251f57b8032ad8",
     "grade": true,
     "grade_id": "cell-87cfe11794cd5054",
     "locked": false,
     "points": 2,
     "schema_version": 3,
     "solution": true,
     "task": false
    }
   },
   "outputs": [],
   "source": [
    "# YOUR CODE HERE\n",
    "raise NotImplementedError()"
   ]
  },
  {
   "cell_type": "markdown",
   "id": "f6e7e34e",
   "metadata": {
    "deletable": false,
    "editable": false,
    "nbgrader": {
     "cell_type": "markdown",
     "checksum": "1e5001cc88df569d4944ce40253badb0",
     "grade": false,
     "grade_id": "cell-b4fe717706236784",
     "locked": true,
     "schema_version": 3,
     "solution": false,
     "task": false
    }
   },
   "source": [
    "#### Q4.1.4 (15 Points Code+WriteUp)\n",
    " \n",
    "Train a convolutional neural network with PyTorch on the EMNIST Balanced dataset  (available in *torchvision.datasets*, use *balanced* split) and evaluate it on the findLetters bounded boxes from the images folder. Find the accuracy on these bounded boxes.\n",
    "\n",
    "<font color=\"red\">**Please include your answer to HW3:PDF**</font>\n",
    "\n",
    "<font color=\"red\">**For this question, please also submit screenshot of your code snippets to the write-up**</font>"
   ]
  },
  {
   "cell_type": "code",
   "execution_count": null,
   "id": "3e00a6a4",
   "metadata": {
    "deletable": false,
    "nbgrader": {
     "cell_type": "code",
     "checksum": "6557e17efc6bc3051d20ab968160e1ac",
     "grade": true,
     "grade_id": "cell-96954b5ffa647538",
     "locked": false,
     "points": 15,
     "schema_version": 3,
     "solution": true,
     "task": false
    }
   },
   "outputs": [],
   "source": [
    "# YOUR CODE HERE\n",
    "raise NotImplementedError()"
   ]
  },
  {
   "cell_type": "markdown",
   "id": "3301e587",
   "metadata": {
    "deletable": false,
    "editable": false,
    "nbgrader": {
     "cell_type": "markdown",
     "checksum": "2493cb7d8e466b09e2b9c88f402587da",
     "grade": false,
     "grade_id": "cell-d3bb203777b72e08",
     "locked": true,
     "schema_version": 3,
     "solution": false,
     "task": false
    }
   },
   "source": [
    "### Q4.2 Fine Tuning"
   ]
  },
  {
   "cell_type": "markdown",
   "id": "4a65f628",
   "metadata": {
    "deletable": false,
    "editable": false,
    "nbgrader": {
     "cell_type": "markdown",
     "checksum": "9ade32f8d5ea05cbc36da0a1e4dd6f58",
     "grade": false,
     "grade_id": "cell-d067bc4110bebd56",
     "locked": true,
     "schema_version": 3,
     "solution": false,
     "task": false
    }
   },
   "source": [
    "#### Q4.2.1 (10 Points Code+WriteUp)\n",
    " \n",
    "Fine-tune a single layer classifier using pytorch on the [flowers 17](http://www.robots.ox.ac.uk/~vgg/data/flowers/17/index.html) (or [flowers 102](http://www.robots.ox.ac.uk/~vgg/data/flowers/102/index.html)!) dataset using [squeezenet1\\_1](https://pytorch.org/docs/stable/torchvision/models.html), as well as an architecture you've designed yourself (*3 conv layers, followed 2 fc layers, it's standard [slide 6](http://cs231n.stanford.edu/slides/2018/cs231n_2018_lecture09.pdf)*) and trained from scratch. How do they compare? \n",
    "    \n",
    "We include a script in `scripts/` to fetch the flowers dataset and extract it in a way that [PyTorch ImageFolder](https://pytorch.org/docs/stable/torchvision/datasets.html#imagefolder) can consume it, see [an example](https://pytorch.org/tutorials/beginner/data_loading_tutorial.html#afterword-torchvision), from **data/oxford-flowers17**. You should look at how SqueezeNet is [defined](https://github.com/pytorch/vision/blob/master/torchvision/models/squeezenet.py), and just replace the classifier layer. There exists a pretty good example for [fine-tuning](https://gist.github.com/jcjohnson/6e41e8512c17eae5da50aebef3378a4c) in PyTorch.\n",
    "\n",
    "<font color=\"red\">**Please include your answer to HW3:PDF**</font>\n",
    "\n",
    "<font color=\"red\">**For this question, please also submit screenshot of your code snippets to the write-up**</font>"
   ]
  },
  {
   "cell_type": "code",
   "execution_count": null,
   "id": "9bc3b8e0",
   "metadata": {
    "deletable": false,
    "nbgrader": {
     "cell_type": "code",
     "checksum": "8fa209b8e469cc16419354efdb6a1a5c",
     "grade": true,
     "grade_id": "cell-a35068c20e20519b",
     "locked": false,
     "points": 10,
     "schema_version": 3,
     "solution": true,
     "task": false
    }
   },
   "outputs": [],
   "source": [
    "# YOUR CODE HERE\n",
    "raise NotImplementedError()"
   ]
  },
  {
   "cell_type": "code",
   "execution_count": null,
   "id": "9aba22c3",
   "metadata": {
    "deletable": false,
    "nbgrader": {
     "cell_type": "code",
     "checksum": "01e6491f5f8677c09b27fef6ed328628",
     "grade": true,
     "grade_id": "cell-a94d41f5ea3dcc20",
     "locked": false,
     "points": 0,
     "schema_version": 3,
     "solution": true,
     "task": false
    }
   },
   "outputs": [],
   "source": [
    "# YOUR CODE HERE\n",
    "raise NotImplementedError()"
   ]
  }
 ],
 "metadata": {
  "kernelspec": {
   "display_name": "Python 3 (ipykernel)",
   "language": "python",
   "name": "python3"
  },
  "language_info": {
   "codemirror_mode": {
    "name": "ipython",
    "version": 3
   },
   "file_extension": ".py",
   "mimetype": "text/x-python",
   "name": "python",
   "nbconvert_exporter": "python",
   "pygments_lexer": "ipython3",
   "version": "3.8.13"
  }
 },
 "nbformat": 4,
 "nbformat_minor": 5
}
